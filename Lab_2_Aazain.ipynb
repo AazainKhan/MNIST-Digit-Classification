{
 "cells": [
  {
   "cell_type": "markdown",
   "metadata": {},
   "source": [
    "# Lab assignment #2: “Classification”\n",
    "Aazain Ullah Khan - 301277063 - COMP 247\n",
    "<hr>"
   ]
  },
  {
   "cell_type": "markdown",
   "metadata": {},
   "source": [
    "### Load and check the data"
   ]
  },
  {
   "cell_type": "code",
   "execution_count": null,
   "metadata": {},
   "outputs": [],
   "source": [
    "# from sklearn import minst dataset using fetch_openml\n",
    "\n",
    "from sklearn.datasets import fetch_openml\n",
    "import pandas as pd\n",
    "import numpy as np\n",
    "import matplotlib.pyplot as plt\n",
    "import matplotlib as mpl"
   ]
  },
  {
   "cell_type": "code",
   "execution_count": null,
   "metadata": {},
   "outputs": [],
   "source": [
    "# load mnist dataset into pandas dataframe\n",
    "np.random.seed(42)\n",
    "mnist = fetch_openml('mnist_784', version=1)"
   ]
  },
  {
   "cell_type": "code",
   "execution_count": null,
   "metadata": {},
   "outputs": [],
   "source": [
    "# list the keys of the dataset\n",
    "mnist.keys()"
   ]
  },
  {
   "cell_type": "code",
   "execution_count": null,
   "metadata": {},
   "outputs": [],
   "source": [
    "# assign data to ndarray\n",
    "X_aazain = mnist['data']\n",
    "\n",
    "# assign target to ndarray\n",
    "y_aazain = mnist['target']\n",
    "print(y_aazain.head(20))"
   ]
  },
  {
   "cell_type": "code",
   "execution_count": null,
   "metadata": {},
   "outputs": [],
   "source": [
    "# types\n",
    "print(type(X_aazain))\n",
    "print(type(y_aazain))"
   ]
  },
  {
   "cell_type": "code",
   "execution_count": null,
   "metadata": {},
   "outputs": [],
   "source": [
    "# shape\n",
    "print(X_aazain.shape)\n",
    "print(y_aazain.shape)"
   ]
  },
  {
   "cell_type": "code",
   "execution_count": null,
   "metadata": {},
   "outputs": [],
   "source": [
    "# assign target to ndarray\n",
    "some_digit1 = X_aazain.iloc[7].to_numpy()\n",
    "some_digit2 = X_aazain.iloc[5].to_numpy()\n",
    "some_digit3 = X_aazain.iloc[0].to_numpy()\n",
    "\n",
    "print(some_digit1)"
   ]
  },
  {
   "cell_type": "code",
   "execution_count": null,
   "metadata": {},
   "outputs": [],
   "source": [
    "# use imshow method to display the image of the digit and plot it\n",
    "\n",
    "some_digit_image1 = some_digit1.reshape(28, 28)\n",
    "some_digit_image2 = some_digit2.reshape(28, 28)\n",
    "some_digit_image3 = some_digit3.reshape(28, 28)\n",
    "\n",
    "plt.imshow(some_digit_image1, cmap=mpl.cm.binary)\n",
    "plt.axis(\"off\")\n",
    "plt.show()\n",
    "\n",
    "plt.imshow(some_digit_image2, cmap=mpl.cm.binary)\n",
    "plt.axis(\"off\")\n",
    "plt.show()\n",
    "\n",
    "plt.imshow(some_digit_image3, cmap=mpl.cm.binary)\n",
    "plt.axis(\"off\")\n",
    "plt.show()"
   ]
  },
  {
   "cell_type": "markdown",
   "metadata": {},
   "source": [
    "### Pre-process the data"
   ]
  },
  {
   "cell_type": "code",
   "execution_count": null,
   "metadata": {},
   "outputs": [],
   "source": [
    "# change type of y_aazain to unit8\n",
    "\n",
    "y_aazain = y_aazain.astype(np.uint8)\n"
   ]
  },
  {
   "cell_type": "code",
   "execution_count": null,
   "metadata": {},
   "outputs": [],
   "source": [
    "# transform the target\n",
    "y_aazain = np.where(y_aazain <= 3, 0, np.where(y_aazain <= 6, 1, 9))"
   ]
  },
  {
   "cell_type": "code",
   "execution_count": null,
   "metadata": {},
   "outputs": [],
   "source": [
    "# print the frequencies of each of the 3 target classes after transformation\n",
    "class_counts = pd.Series(y_aazain).value_counts()\n",
    "\n",
    "for label, count in class_counts.items():\n",
    "    print(f\"Class {label}: {count} instances\")"
   ]
  },
  {
   "cell_type": "code",
   "execution_count": null,
   "metadata": {},
   "outputs": [],
   "source": [
    "# return count is the frequency of each class\n",
    "unique, counts = np.unique(y_aazain, return_counts=True)\n",
    "plt.bar(unique, counts)\n",
    "plt.title('Frequency of Each Class')\n",
    "plt.xlabel('Class')\n",
    "plt.ylabel('Frequency')\n",
    "plt.xticks(unique, ['0-3', '4-6', '7-9'])\n",
    "plt.show()"
   ]
  },
  {
   "cell_type": "code",
   "execution_count": null,
   "metadata": {},
   "outputs": [],
   "source": [
    "# Split the data into training and test sets\n",
    "# Assign the first 50,000 records for training and the last 20,000\n",
    "# records for testing\n",
    "\n",
    "X_train, X_test, y_train, y_test = X_aazain[:50000], X_aazain[50000:\n",
    "                                                              70000], y_aazain[:50000], y_aazain[50000:70000]"
   ]
  },
  {
   "cell_type": "markdown",
   "metadata": {},
   "source": [
    "### Build Classification Models"
   ]
  },
  {
   "cell_type": "markdown",
   "metadata": {},
   "source": [
    "**Naive Bayes**"
   ]
  },
  {
   "cell_type": "code",
   "execution_count": null,
   "metadata": {},
   "outputs": [],
   "source": [
    "from sklearn.metrics import confusion_matrix\n",
    "from sklearn.metrics import accuracy_score\n",
    "from sklearn.model_selection import cross_val_score\n",
    "from sklearn.naive_bayes import MultinomialNB"
   ]
  },
  {
   "cell_type": "code",
   "execution_count": null,
   "metadata": {},
   "outputs": [],
   "source": [
    "# create a MultinomialNB classifier fitting the training data\n",
    "NB_clf_aazain = MultinomialNB()\n",
    "NB_clf_aazain.fit(X_train, y_train)"
   ]
  },
  {
   "cell_type": "code",
   "execution_count": null,
   "metadata": {},
   "outputs": [],
   "source": [
    "# cross validation score\n",
    "\n",
    "cross_val_score(NB_clf_aazain, X_train, y_train, cv=3, scoring=\"accuracy\")"
   ]
  },
  {
   "cell_type": "code",
   "execution_count": null,
   "metadata": {},
   "outputs": [],
   "source": [
    "# accuracy score against test data\n",
    "\n",
    "y_pred = NB_clf_aazain.predict(X_test)\n",
    "accuracy_score(y_test, y_pred)"
   ]
  },
  {
   "cell_type": "code",
   "execution_count": null,
   "metadata": {},
   "outputs": [],
   "source": [
    "# confusion matrix for the accuracy of the model\n",
    "\n",
    "confusion_matrix(y_test, y_pred)"
   ]
  },
  {
   "cell_type": "code",
   "execution_count": null,
   "metadata": {},
   "outputs": [],
   "source": [
    "# predict the 3 variables\n",
    "\n",
    "print(NB_clf_aazain.predict([some_digit1, some_digit2, some_digit3]))"
   ]
  },
  {
   "cell_type": "code",
   "execution_count": null,
   "metadata": {},
   "outputs": [],
   "source": [
    "NB_clf_aazain.classes_"
   ]
  },
  {
   "cell_type": "markdown",
   "metadata": {},
   "source": [
    "**Logistic Regression**"
   ]
  },
  {
   "cell_type": "code",
   "execution_count": null,
   "metadata": {},
   "outputs": [],
   "source": [
    "# initialise the logistic regression model\n",
    "from sklearn.linear_model import LogisticRegression\n",
    "\n",
    "LR_clf_aazain = LogisticRegression()"
   ]
  },
  {
   "cell_type": "code",
   "execution_count": null,
   "metadata": {},
   "outputs": [],
   "source": [
    "# fit the model with training data\n",
    "# uses lbfgs\n",
    "LR_clf_aazain = LogisticRegression(\n",
    "    solver='lbfgs', max_iter=1200, tol=0.1, multi_class='multinomial')\n",
    "LR_clf_aazain.fit(X_train, y_train)"
   ]
  },
  {
   "cell_type": "code",
   "execution_count": null,
   "metadata": {},
   "outputs": [],
   "source": [
    "# fit model with training data\n",
    "# uses saga\n",
    "LR_clf_aazain = LogisticRegression(\n",
    "    solver='saga', max_iter=1200, tol=0.1, multi_class='multinomial')\n",
    "LR_clf_aazain.fit(X_train, y_train)"
   ]
  },
  {
   "cell_type": "code",
   "execution_count": null,
   "metadata": {},
   "outputs": [],
   "source": [
    "# cross validation score\n",
    "\n",
    "cross_val_score(LR_clf_aazain, X_train, y_train, cv=3, scoring=\"accuracy\")"
   ]
  },
  {
   "cell_type": "code",
   "execution_count": null,
   "metadata": {},
   "outputs": [],
   "source": [
    "# accuracy score against test data\n",
    "\n",
    "y_pred = LR_clf_aazain.predict(X_test)\n",
    "accuracy_score(y_test, y_pred)"
   ]
  },
  {
   "cell_type": "code",
   "execution_count": null,
   "metadata": {},
   "outputs": [],
   "source": [
    "# confusion matrix for the accuracy of the model\n",
    "# saga\n",
    "\n",
    "confusion_matrix(y_test, y_pred)"
   ]
  },
  {
   "cell_type": "code",
   "execution_count": null,
   "metadata": {},
   "outputs": [],
   "source": [
    "LR_clf_aazain.predict([some_digit1, some_digit2, some_digit3])"
   ]
  }
 ],
 "metadata": {
  "kernelspec": {
   "display_name": "Python 3",
   "language": "python",
   "name": "python3"
  },
  "language_info": {
   "codemirror_mode": {
    "name": "ipython",
    "version": 3
   },
   "file_extension": ".py",
   "mimetype": "text/x-python",
   "name": "python",
   "nbconvert_exporter": "python",
   "pygments_lexer": "ipython3",
   "version": "3.11.2"
  }
 },
 "nbformat": 4,
 "nbformat_minor": 2
}
